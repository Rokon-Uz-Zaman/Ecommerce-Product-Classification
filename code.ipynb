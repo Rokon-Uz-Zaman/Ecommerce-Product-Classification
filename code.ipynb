{
  "nbformat": 4,
  "nbformat_minor": 0,
  "metadata": {
    "colab": {
      "name": "fashin_minst_with digit.ipynb",
      "provenance": []
    },
    "kernelspec": {
      "name": "python3",
      "display_name": "Python 3"
    },
    "language_info": {
      "name": "python"
    }
  },
  "cells": [
    {
      "cell_type": "code",
      "execution_count": null,
      "metadata": {
        "colab": {
          "base_uri": "https://localhost:8080/"
        },
        "id": "TK64UQkOGE9o",
        "outputId": "c28f8c71-021f-428c-c198-50b488665ec2"
      },
      "outputs": [
        {
          "output_type": "stream",
          "name": "stdout",
          "text": [
            "Downloading data from https://storage.googleapis.com/tensorflow/tf-keras-datasets/train-labels-idx1-ubyte.gz\n",
            "32768/29515 [=================================] - 0s 0us/step\n",
            "40960/29515 [=========================================] - 0s 0us/step\n",
            "Downloading data from https://storage.googleapis.com/tensorflow/tf-keras-datasets/train-images-idx3-ubyte.gz\n",
            "26427392/26421880 [==============================] - 0s 0us/step\n",
            "26435584/26421880 [==============================] - 0s 0us/step\n",
            "Downloading data from https://storage.googleapis.com/tensorflow/tf-keras-datasets/t10k-labels-idx1-ubyte.gz\n",
            "16384/5148 [===============================================================================================] - 0s 0us/step\n",
            "Downloading data from https://storage.googleapis.com/tensorflow/tf-keras-datasets/t10k-images-idx3-ubyte.gz\n",
            "4423680/4422102 [==============================] - 0s 0us/step\n",
            "4431872/4422102 [==============================] - 0s 0us/step\n"
          ]
        }
      ],
      "source": [
        "from tensorflow.keras.datasets import fashion_mnist\n",
        "(xtrain,ytrain),(xtest,ytest)= fashion_mnist.load_data()"
      ]
    },
    {
      "cell_type": "code",
      "source": [
        "print(f\"Shape of xtrain data {xtrain.shape}\")\n",
        "print(f\"Shape of ytrain data {ytrain.shape}\")\n",
        "print(f\"Shape of xtest data {xtest.shape}\")\n",
        "print(f\"Shape of ytest data {ytest.shape}\")"
      ],
      "metadata": {
        "colab": {
          "base_uri": "https://localhost:8080/"
        },
        "id": "92sqztlFGN5t",
        "outputId": "3a45f21f-b9de-4ec0-c3c2-c827225a2151"
      },
      "execution_count": null,
      "outputs": [
        {
          "output_type": "stream",
          "name": "stdout",
          "text": [
            "Shape of xtrain data (60000, 28, 28)\n",
            "Shape of ytrain data (60000,)\n",
            "Shape of xtest data (10000, 28, 28)\n",
            "Shape of ytest data (10000,)\n"
          ]
        }
      ]
    },
    {
      "cell_type": "code",
      "source": [
        "type(xtrain)"
      ],
      "metadata": {
        "colab": {
          "base_uri": "https://localhost:8080/"
        },
        "id": "iPM0t8thGRvw",
        "outputId": "3d6fe87b-1e46-4da5-96ce-9dad1514305a"
      },
      "execution_count": null,
      "outputs": [
        {
          "output_type": "execute_result",
          "data": {
            "text/plain": [
              "numpy.ndarray"
            ]
          },
          "metadata": {},
          "execution_count": 4
        }
      ]
    },
    {
      "cell_type": "code",
      "source": [
        "import matplotlib.pyplot as plt\n",
        "\n",
        "plt.imshow(xtrain[0])"
      ],
      "metadata": {
        "colab": {
          "base_uri": "https://localhost:8080/",
          "height": 281
        },
        "id": "WboH-iNPGe7H",
        "outputId": "52156adc-b544-4739-d889-f02ab509f5eb"
      },
      "execution_count": null,
      "outputs": [
        {
          "output_type": "execute_result",
          "data": {
            "text/plain": [
              "<matplotlib.image.AxesImage at 0x7f00dd0f2450>"
            ]
          },
          "metadata": {},
          "execution_count": 5
        },
        {
          "output_type": "display_data",
          "data": {
            "text/plain": [
              "<Figure size 432x288 with 1 Axes>"
            ],
            "image/png": "[encoded data removed]"
          },
          "metadata": {
            "needs_background": "light"
          }
        }
      ]
    },
    {
      "cell_type": "code",
      "source": [
        "from google.colab.patches import cv2_imshow\n",
        "cv2_imshow(xtrain[0])"
      ],
      "metadata": {
        "colab": {
          "base_uri": "https://localhost:8080/",
          "height": 45
        },
        "id": "l2slvyM5GUNH",
        "outputId": "0b466435-de7d-42aa-c4e7-102b01fb0845"
      },
      "execution_count": null,
      "outputs": [
        {
          "output_type": "display_data",
          "data": {
            "text/plain": [
              "<PIL.Image.Image image mode=L size=28x28 at 0x7F00DD063F50>"
            ],
            "image/png": "[encoded data removed]"
          },
          "metadata": {}
        }
      ]
    },
    {
      "cell_type": "code",
      "source": [
        "for i in range(10):\n",
        "  cv2_imshow(xtrain[i])"
      ],
      "metadata": {
        "colab": {
          "base_uri": "https://localhost:8080/",
          "height": 297
        },
        "id": "opzigmEWGWYH",
        "outputId": "a30b6180-dacb-4927-a55c-c44723f01d96"
      },
      "execution_count": null,
      "outputs": [
        {
          "output_type": "display_data",
          "data": {
            "text/plain": [
              "<PIL.Image.Image image mode=L size=28x28 at 0x7F00D398A610>"
            ],
            "image/png": "[encoded data removed]"
          },
          "metadata": {}
        },
        {
          "output_type": "display_data",
          "data": {
            "text/plain": [
              "<PIL.Image.Image image mode=L size=28x28 at 0x7F00DD063350>"
            ],
            "image/png": "[encoded data removed]"
          },
          "metadata": {}
        },
        {
          "output_type": "display_data",
          "data": {
            "text/plain": [
              "<PIL.Image.Image image mode=L size=28x28 at 0x7F00D398A1D0>"
            ],
            "image/png": "[encoded data removed]"
          },
          "metadata": {}
        },
        {
          "output_type": "display_data",
          "data": {
            "text/plain": [
              "<PIL.Image.Image image mode=L size=28x28 at 0x7F00DD063350>"
            ],
            "image/png": "[encoded data removed]"
          },
          "metadata": {}
        },
        {
          "output_type": "display_data",
          "data": {
            "text/plain": [
              "<PIL.Image.Image image mode=L size=28x28 at 0x7F00D398A950>"
            ],
            "image/png": "[encoded data removed]"
          },
          "metadata": {}
        },
        {
          "output_type": "display_data",
          "data": {
            "text/plain": [
              "<PIL.Image.Image image mode=L size=28x28 at 0x7F00D398A1D0>"
            ],
            "image/png": "[encoded data removed]"
          },
          "metadata": {}
        },
        {
          "output_type": "display_data",
          "data": {
            "text/plain": [
              "<PIL.Image.Image image mode=L size=28x28 at 0x7F00D398A810>"
            ],
            "image/png": "[encoded data removed]"
          },
          "metadata": {}
        },
        {
          "output_type": "display_data",
          "data": {
            "text/plain": [
              "<PIL.Image.Image image mode=L size=28x28 at 0x7F00D398A810>"
            ],
            "image/png": "[encoded data removed]"
          },
          "metadata": {}
        },
        {
          "output_type": "display_data",
          "data": {
            "text/plain": [
              "<PIL.Image.Image image mode=L size=28x28 at 0x7F00D398A1D0>"
            ],
            "image/png": "[encoded data removed]"
          },
          "metadata": {}
        },
        {
          "output_type": "display_data",
          "data": {
            "text/plain": [
              "<PIL.Image.Image image mode=L size=28x28 at 0x7F00D398A610>"
            ],
            "image/png": "[encoded data removed]"
          },
          "metadata": {}
        }
      ]
    },
    {
      "cell_type": "code",
      "source": [
        "#feature scalling\n",
        "xtrain=xtrain.astype(\"float32\")/255\n",
        "xtest=xtest.astype(\"float32\")/255"
      ],
      "metadata": {
        "id": "K1iWoIimGpx_"
      },
      "execution_count": null,
      "outputs": []
    },
    {
      "cell_type": "code",
      "source": [
        "plt.imshow(xtrain[0])"
      ],
      "metadata": {
        "colab": {
          "base_uri": "https://localhost:8080/",
          "height": 281
        },
        "id": "e3U0rRSJGylN",
        "outputId": "0f5dd080-df00-42ec-8168-e41eb362d5f4"
      },
      "execution_count": null,
      "outputs": [
        {
          "output_type": "execute_result",
          "data": {
            "text/plain": [
              "<matplotlib.image.AxesImage at 0x7f00d394d590>"
            ]
          },
          "metadata": {},
          "execution_count": 9
        },
        {
          "output_type": "display_data",
          "data": {
            "text/plain": [
              "<Figure size 432x288 with 1 Axes>"
            ],
            "image/png": "[encoded data removed]"
          },
          "metadata": {
            "needs_background": "light"
          }
        }
      ]
    },
    {
      "cell_type": "code",
      "source": [
        "#xtrain[0]"
      ],
      "metadata": {
        "id": "8tRxkN9vG_Zf"
      },
      "execution_count": null,
      "outputs": []
    },
    {
      "cell_type": "code",
      "source": [
        "print(xtrain[0].max())"
      ],
      "metadata": {
        "colab": {
          "base_uri": "https://localhost:8080/"
        },
        "id": "BvHDSUntHODm",
        "outputId": "72bbfb38-7a35-4db0-a425-3d06bd374f58"
      },
      "execution_count": null,
      "outputs": [
        {
          "output_type": "stream",
          "name": "stdout",
          "text": [
            "1.0\n"
          ]
        }
      ]
    },
    {
      "cell_type": "code",
      "source": [
        "#reshape + gray sclae the images as model expect\n",
        "xtrain=xtrain.reshape(60000,28,28,1)  #1 for gray img\n",
        "xtest=xtest.reshape(10000,28,28,1)  #1 for gray img"
      ],
      "metadata": {
        "id": "NUsyvl-HHW0O"
      },
      "execution_count": null,
      "outputs": []
    },
    {
      "cell_type": "code",
      "source": [
        "xtrain[0].shape"
      ],
      "metadata": {
        "colab": {
          "base_uri": "https://localhost:8080/"
        },
        "id": "QGYP6y_1HhJU",
        "outputId": "1c72cb2f-1e10-4d42-dca2-b24475a21ff4"
      },
      "execution_count": null,
      "outputs": [
        {
          "output_type": "execute_result",
          "data": {
            "text/plain": [
              "(28, 28, 1)"
            ]
          },
          "metadata": {},
          "execution_count": 13
        }
      ]
    },
    {
      "cell_type": "code",
      "source": [
        "#one hot encode the target col \n",
        "from tensorflow.keras.utils import to_categorical #one-hot encode target column\n",
        "ytrain = to_categorical(ytrain,dtype =\"uint8\")\n",
        "ytest = to_categorical(ytest, dtype =\"uint8\")\n"
      ],
      "metadata": {
        "id": "4rqDs49OHtt0"
      },
      "execution_count": null,
      "outputs": []
    },
    {
      "cell_type": "code",
      "source": [
        "ytrain[0]"
      ],
      "metadata": {
        "colab": {
          "base_uri": "https://localhost:8080/"
        },
        "id": "hggjkxqdHzNk",
        "outputId": "ffa9461b-6bca-46bb-aeee-91986a6e8408"
      },
      "execution_count": null,
      "outputs": [
        {
          "output_type": "execute_result",
          "data": {
            "text/plain": [
              "array([0, 0, 0, 0, 0, 0, 0, 0, 0, 1], dtype=uint8)"
            ]
          },
          "metadata": {},
          "execution_count": 15
        }
      ]
    },
    {
      "cell_type": "code",
      "source": [
        "from tensorflow.keras.models import Sequential\n",
        "from tensorflow.keras.layers import Dense,Conv2D,Flatten ,Dropout,MaxPool2D\n",
        "\n",
        "#create model \n",
        "model=Sequential()\n",
        "\n",
        "#convulation layer 1 \n",
        "model.add(Conv2D(64,kernel_size=(3,3),activation='relu',input_shape=(28,28,1)))\n",
        "#convulation layer 2\n",
        "model.add(Conv2D(32,(3,3),activation='relu',input_shape=(28,28,1)))\n",
        "model.add(MaxPool2D(2,2))\n",
        "model.add(Dropout(rate=0.25))\n",
        "#Flaten \n",
        "model.add(Flatten())\n",
        "\n",
        "\n",
        "\n",
        "#Dense \n",
        "model.add(Dense(128,activation='softmax'))\n",
        "\n",
        "model.add(Dropout(rate = 0.5))\n",
        "model.add(Dense(10,activation='softmax'))\n"
      ],
      "metadata": {
        "id": "8nO7QHqcH50k"
      },
      "execution_count": null,
      "outputs": []
    },
    {
      "cell_type": "code",
      "source": [
        "model.summary()"
      ],
      "metadata": {
        "colab": {
          "base_uri": "https://localhost:8080/"
        },
        "id": "7vQut25BH8A8",
        "outputId": "be08ce49-ac7a-4067-866b-3e4a131e0051"
      },
      "execution_count": null,
      "outputs": [
        {
          "output_type": "stream",
          "name": "stdout",
          "text": [
            "Model: \"sequential\"\n",
            "_________________________________________________________________\n",
            " Layer (type)                Output Shape              Param #   \n",
            "=================================================================\n",
            " conv2d (Conv2D)             (None, 26, 26, 64)        640       \n",
            "                                                                 \n",
            " conv2d_1 (Conv2D)           (None, 24, 24, 32)        18464     \n",
            "                                                                 \n",
            " max_pooling2d (MaxPooling2D  (None, 12, 12, 32)       0         \n",
            " )                                                               \n",
            "                                                                 \n",
            " dropout (Dropout)           (None, 12, 12, 32)        0         \n",
            "                                                                 \n",
            " flatten (Flatten)           (None, 4608)              0         \n",
            "                                                                 \n",
            " dense (Dense)               (None, 128)               589952    \n",
            "                                                                 \n",
            " dropout_1 (Dropout)         (None, 128)               0         \n",
            "                                                                 \n",
            " dense_1 (Dense)             (None, 10)                1290      \n",
            "                                                                 \n",
            "=================================================================\n",
            "Total params: 610,346\n",
            "Trainable params: 610,346\n",
            "Non-trainable params: 0\n",
            "_________________________________________________________________\n"
          ]
        }
      ]
    },
    {
      "cell_type": "code",
      "source": [
        "from tensorflow.keras.optimizers import Adam\n",
        "#Optimizer\n",
        "optimizer = Adam(lr=0.001, beta_1=0.9, beta_2=0.999 )"
      ],
      "metadata": {
        "colab": {
          "base_uri": "https://localhost:8080/"
        },
        "id": "2wmKmvh2H_sA",
        "outputId": "25a57c38-e79e-41a3-82ee-c91a0d9f3f5a"
      },
      "execution_count": null,
      "outputs": [
        {
          "output_type": "stream",
          "name": "stderr",
          "text": [
            "/usr/local/lib/python3.7/dist-packages/keras/optimizer_v2/adam.py:105: UserWarning: The `lr` argument is deprecated, use `learning_rate` instead.\n",
            "  super(Adam, self).__init__(name, **kwargs)\n"
          ]
        }
      ]
    },
    {
      "cell_type": "code",
      "source": [
        "from tensorflow.keras.metrics import categorical_crossentropy\n",
        "\n",
        "\n",
        "model.compile(optimizer=optimizer , loss='categorical_crossentropy', metrics=['accuracy'])"
      ],
      "metadata": {
        "id": "6Z4X7uxhIEg9"
      },
      "execution_count": null,
      "outputs": []
    },
    {
      "cell_type": "code",
      "source": [
        "model.fit(xtrain, ytrain, validation_data=(xtest, ytest), epochs=10)"
      ],
      "metadata": {
        "colab": {
          "base_uri": "https://localhost:8080/"
        },
        "id": "EOXFdUruIHy0",
        "outputId": "9d0f1424-dde7-453b-d8ab-34bb4fae295b"
      },
      "execution_count": null,
      "outputs": [
        {
          "output_type": "stream",
          "name": "stdout",
          "text": [
            "Epoch 1/10\n",
            "1875/1875 [==============================] - 176s 94ms/step - loss: 1.2015 - accuracy: 0.5323 - val_loss: 0.6091 - val_accuracy: 0.8880\n",
            "Epoch 2/10\n",
            "1875/1875 [==============================] - 178s 95ms/step - loss: 1.1238 - accuracy: 0.5538 - val_loss: 0.5665 - val_accuracy: 0.8928\n",
            "Epoch 3/10\n",
            "1875/1875 [==============================] - 169s 90ms/step - loss: 0.9897 - accuracy: 0.6281 - val_loss: 0.4736 - val_accuracy: 0.8912\n",
            "Epoch 4/10\n",
            "1875/1875 [==============================] - 169s 90ms/step - loss: 0.8980 - accuracy: 0.6601 - val_loss: 0.4280 - val_accuracy: 0.9002\n",
            "Epoch 5/10\n",
            "1875/1875 [==============================] - 175s 93ms/step - loss: 0.8342 - accuracy: 0.6913 - val_loss: 0.3828 - val_accuracy: 0.9028\n",
            "Epoch 6/10\n",
            "1875/1875 [==============================] - 176s 94ms/step - loss: 0.7567 - accuracy: 0.7184 - val_loss: 0.3539 - val_accuracy: 0.9075\n",
            "Epoch 7/10\n",
            "1875/1875 [==============================] - 176s 94ms/step - loss: 0.7155 - accuracy: 0.7328 - val_loss: 0.3374 - val_accuracy: 0.9076\n",
            "Epoch 8/10\n",
            "1875/1875 [==============================] - 177s 94ms/step - loss: 0.6637 - accuracy: 0.7622 - val_loss: 0.3105 - val_accuracy: 0.9094\n",
            "Epoch 9/10\n",
            "1875/1875 [==============================] - 176s 94ms/step - loss: 0.6247 - accuracy: 0.7728 - val_loss: 0.3057 - val_accuracy: 0.9104\n",
            "Epoch 10/10\n",
            "1875/1875 [==============================] - 174s 93ms/step - loss: 0.5895 - accuracy: 0.7865 - val_loss: 0.2956 - val_accuracy: 0.9059\n"
          ]
        },
        {
          "output_type": "execute_result",
          "data": {
            "text/plain": [
              "<keras.callbacks.History at 0x7f00cc065550>"
            ]
          },
          "metadata": {},
          "execution_count": 52
        }
      ]
    },
    {
      "cell_type": "code",
      "source": [
        "model.save('fashion.h5')"
      ],
      "metadata": {
        "id": "e6aO_ipVIUxN"
      },
      "execution_count": null,
      "outputs": []
    },
    {
      "cell_type": "code",
      "source": [
        "_ ,acc =model.evaluate(xtest,ytest, verbose=0)\n",
        "print(f\"{acc*100 :.2f} %\")"
      ],
      "metadata": {
        "colab": {
          "base_uri": "https://localhost:8080/"
        },
        "id": "k9k8BkAnIVb_",
        "outputId": "075e4336-2ffe-41df-b4de-4031eb3e9223"
      },
      "execution_count": null,
      "outputs": [
        {
          "output_type": "stream",
          "name": "stdout",
          "text": [
            "90.59 %\n"
          ]
        }
      ]
    },
    {
      "cell_type": "code",
      "source": [
        "import tensorflow as tf\n",
        "tf.keras.preprocessing.image.load_img('/content/testimg2.png')"
      ],
      "metadata": {
        "colab": {
          "base_uri": "https://localhost:8080/",
          "height": 265
        },
        "id": "SZEdEch4IZF7",
        "outputId": "c741facf-c5a5-4d88-d678-429eea1a4b8d"
      },
      "execution_count": null,
      "outputs": [
        {
          "output_type": "execute_result",
          "data": {
            "text/plain": [
              "<PIL.Image.Image image mode=RGB size=251x248 at 0x7F00CBFC3110>"
            ],
            "image/png": "[encoded data removed]"
          },
          "metadata": {},
          "execution_count": 55
        }
      ]
    },
    {
      "cell_type": "code",
      "source": [
        "testimg=tf.keras.preprocessing.image.load_img('/content/testimg2.png',color_mode =\"grayscale\" ,target_size=(28,28))\n",
        "testimg"
      ],
      "metadata": {
        "colab": {
          "base_uri": "https://localhost:8080/",
          "height": 45
        },
        "id": "1jPu9YFXI9q9",
        "outputId": "e9615489-0cfd-4142-d85a-aee51baad15d"
      },
      "execution_count": null,
      "outputs": [
        {
          "output_type": "execute_result",
          "data": {
            "text/plain": [
              "<PIL.Image.Image image mode=L size=28x28 at 0x7F00CBFEB4D0>"
            ],
            "image/png": "[encoded data removed]"
          },
          "metadata": {},
          "execution_count": 56
        }
      ]
    },
    {
      "cell_type": "code",
      "source": [
        "img=tf.keras.preprocessing.image.img_to_array(testimg)\n",
        "\n",
        "from google.colab.patches import cv2_imshow\n",
        "cv2_imshow(img)"
      ],
      "metadata": {
        "colab": {
          "base_uri": "https://localhost:8080/",
          "height": 45
        },
        "id": "eQLdjTmtJB4i",
        "outputId": "da4ef777-f5be-4319-a92f-21421fe8c654"
      },
      "execution_count": null,
      "outputs": [
        {
          "output_type": "display_data",
          "data": {
            "text/plain": [
              "<PIL.Image.Image image mode=RGB size=28x28 at 0x7F00CBFFB150>"
            ],
            "image/png": "[encoded data removed]"
          },
          "metadata": {}
        }
      ]
    },
    {
      "cell_type": "code",
      "source": [
        "img=img.reshape(1,28,28,1)\n",
        "img=img.astype('float32')\n",
        "img=img/255.0"
      ],
      "metadata": {
        "id": "8vMyMM6GJK5d"
      },
      "execution_count": null,
      "outputs": []
    },
    {
      "cell_type": "code",
      "source": [
        "prediction = model.predict(img)\n",
        "\n",
        "#print(prediction)"
      ],
      "metadata": {
        "id": "OgdyZsMeJRZh"
      },
      "execution_count": null,
      "outputs": []
    },
    {
      "cell_type": "code",
      "source": [
        "from numpy import argmax\n",
        "prediction=argmax(prediction)\n",
        "print(f\"Prediction : { prediction }\")"
      ],
      "metadata": {
        "colab": {
          "base_uri": "https://localhost:8080/"
        },
        "id": "MG7mSswZLUv-",
        "outputId": "95cd5c22-21aa-415f-e2fb-61e331d33b38"
      },
      "execution_count": null,
      "outputs": [
        {
          "output_type": "stream",
          "name": "stdout",
          "text": [
            "Prediction : 8\n"
          ]
        }
      ]
    },
    {
      "cell_type": "code",
      "source": [
        "dic={0:\"Top/T-shirt\",1:\"Trouser\",2:\"Pullover\",3:\"Dress\",4:\"Coat\",5:\"Sandal\",6:\"Shirt\",7:\"Sneaker\",8:\"Bag\",9:\"Ankle boot\"}"
      ],
      "metadata": {
        "id": "QTjADzxq-bU6"
      },
      "execution_count": null,
      "outputs": []
    },
    {
      "cell_type": "code",
      "source": [
        "print(f\" Prediction : {dic[prediction]}\")"
      ],
      "metadata": {
        "colab": {
          "base_uri": "https://localhost:8080/"
        },
        "id": "v0YnzVNXLhVO",
        "outputId": "3a006a48-8438-4a35-93a3-04297d449f71"
      },
      "execution_count": null,
      "outputs": [
        {
          "output_type": "stream",
          "name": "stdout",
          "text": [
            " Prediction : Bag\n"
          ]
        }
      ]
    }
  ]
}