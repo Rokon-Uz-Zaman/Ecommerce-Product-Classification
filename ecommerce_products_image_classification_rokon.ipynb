{
  "cells": [
    {
      "cell_type": "markdown",
      "metadata": {
        "id": "view-in-github",
        "colab_type": "text"
      },
      "source": [
        "<a href=\"https://colab.research.google.com/github/Rokon-Uz-Zaman/Ecommerce-Products-Classification/blob/main/ecommerce_products_image_classification_rokon.ipynb\" target=\"_parent\"><img src=\"https://colab.research.google.com/assets/colab-badge.svg\" alt=\"Open In Colab\"/></a>"
      ]
    },
    {
      "cell_type": "code",
      "execution_count": null,
      "id": "54910d1f",
      "metadata": {
        "_cell_guid": "b1076dfc-b9ad-4769-8c92-a6c4dae69d19",
        "_uuid": "8f2839f25d086af736a60e9eeb907d3b93b6e0e5",
        "execution": {
          "iopub.execute_input": "2021-10-15T09:48:44.705278Z",
          "iopub.status.busy": "2021-10-15T09:48:44.703931Z",
          "iopub.status.idle": "2021-10-15T09:48:44.725617Z",
          "shell.execute_reply": "2021-10-15T09:48:44.726201Z",
          "shell.execute_reply.started": "2021-10-15T09:38:53.595751Z"
        },
        "papermill": {
          "duration": 0.04648,
          "end_time": "2021-10-15T09:48:44.726536",
          "exception": false,
          "start_time": "2021-10-15T09:48:44.680056",
          "status": "completed"
        },
        "tags": [],
        "id": "54910d1f",
        "outputId": "28749202-768a-494a-8104-57d970a1eb20"
      },
      "outputs": [
        {
          "name": "stdout",
          "output_type": "stream",
          "text": [
            "/kaggle/input/fashionmnist/t10k-labels-idx1-ubyte\n",
            "/kaggle/input/fashionmnist/t10k-images-idx3-ubyte\n",
            "/kaggle/input/fashionmnist/fashion-mnist_test.csv\n",
            "/kaggle/input/fashionmnist/fashion-mnist_train.csv\n",
            "/kaggle/input/fashionmnist/train-labels-idx1-ubyte\n",
            "/kaggle/input/fashionmnist/train-images-idx3-ubyte\n"
          ]
        }
      ],
      "source": [
        "\n",
        "import numpy as np # linear algebra\n",
        "import pandas as pd # data processing, CSV file I/O (e.g. pd.read_csv)\n",
        "\n",
        "# Input data files are available in the read-only \"../input/\" directory\n",
        "# For example, running this (by clicking run or pressing Shift+Enter) will list all files under the input directory\n",
        "\n",
        "import os\n",
        "for dirname, _, filenames in os.walk('/kaggle/input'):\n",
        "    for filename in filenames:\n",
        "        print(os.path.join(dirname, filename))\n",
        "\n"
      ]
    },
    {
      "cell_type": "code",
      "execution_count": null,
      "id": "b23c98e8",
      "metadata": {
        "execution": {
          "iopub.execute_input": "2021-10-15T09:48:44.764936Z",
          "iopub.status.busy": "2021-10-15T09:48:44.764222Z",
          "iopub.status.idle": "2021-10-15T09:48:51.591598Z",
          "shell.execute_reply": "2021-10-15T09:48:51.590736Z",
          "shell.execute_reply.started": "2021-10-15T09:38:53.611739Z"
        },
        "papermill": {
          "duration": 6.848496,
          "end_time": "2021-10-15T09:48:51.591787",
          "exception": false,
          "start_time": "2021-10-15T09:48:44.743291",
          "status": "completed"
        },
        "tags": [],
        "id": "b23c98e8"
      },
      "outputs": [],
      "source": [
        "df=pd.read_csv('../input/fashionmnist/fashion-mnist_train.csv')"
      ]
    },
    {
      "cell_type": "code",
      "execution_count": null,
      "id": "bc3b66dc",
      "metadata": {
        "execution": {
          "iopub.execute_input": "2021-10-15T09:48:51.634993Z",
          "iopub.status.busy": "2021-10-15T09:48:51.633872Z",
          "iopub.status.idle": "2021-10-15T09:48:51.659885Z",
          "shell.execute_reply": "2021-10-15T09:48:51.660453Z",
          "shell.execute_reply.started": "2021-10-15T09:38:58.531246Z"
        },
        "papermill": {
          "duration": 0.052441,
          "end_time": "2021-10-15T09:48:51.660661",
          "exception": false,
          "start_time": "2021-10-15T09:48:51.608220",
          "status": "completed"
        },
        "tags": [],
        "id": "bc3b66dc",
        "outputId": "193ff68a-de79-4164-a057-c4c30e81b13e"
      },
      "outputs": [
        {
          "data": {
            "text/html": [
              "<div>\n",
              "<style scoped>\n",
              "    .dataframe tbody tr th:only-of-type {\n",
              "        vertical-align: middle;\n",
              "    }\n",
              "\n",
              "    .dataframe tbody tr th {\n",
              "        vertical-align: top;\n",
              "    }\n",
              "\n",
              "    .dataframe thead th {\n",
              "        text-align: right;\n",
              "    }\n",
              "</style>\n",
              "<table border=\"1\" class=\"dataframe\">\n",
              "  <thead>\n",
              "    <tr style=\"text-align: right;\">\n",
              "      <th></th>\n",
              "      <th>label</th>\n",
              "      <th>pixel1</th>\n",
              "      <th>pixel2</th>\n",
              "      <th>pixel3</th>\n",
              "      <th>pixel4</th>\n",
              "      <th>pixel5</th>\n",
              "      <th>pixel6</th>\n",
              "      <th>pixel7</th>\n",
              "      <th>pixel8</th>\n",
              "      <th>pixel9</th>\n",
              "      <th>...</th>\n",
              "      <th>pixel775</th>\n",
              "      <th>pixel776</th>\n",
              "      <th>pixel777</th>\n",
              "      <th>pixel778</th>\n",
              "      <th>pixel779</th>\n",
              "      <th>pixel780</th>\n",
              "      <th>pixel781</th>\n",
              "      <th>pixel782</th>\n",
              "      <th>pixel783</th>\n",
              "      <th>pixel784</th>\n",
              "    </tr>\n",
              "  </thead>\n",
              "  <tbody>\n",
              "    <tr>\n",
              "      <th>0</th>\n",
              "      <td>2</td>\n",
              "      <td>0</td>\n",
              "      <td>0</td>\n",
              "      <td>0</td>\n",
              "      <td>0</td>\n",
              "      <td>0</td>\n",
              "      <td>0</td>\n",
              "      <td>0</td>\n",
              "      <td>0</td>\n",
              "      <td>0</td>\n",
              "      <td>...</td>\n",
              "      <td>0</td>\n",
              "      <td>0</td>\n",
              "      <td>0</td>\n",
              "      <td>0</td>\n",
              "      <td>0</td>\n",
              "      <td>0</td>\n",
              "      <td>0</td>\n",
              "      <td>0</td>\n",
              "      <td>0</td>\n",
              "      <td>0</td>\n",
              "    </tr>\n",
              "    <tr>\n",
              "      <th>1</th>\n",
              "      <td>9</td>\n",
              "      <td>0</td>\n",
              "      <td>0</td>\n",
              "      <td>0</td>\n",
              "      <td>0</td>\n",
              "      <td>0</td>\n",
              "      <td>0</td>\n",
              "      <td>0</td>\n",
              "      <td>0</td>\n",
              "      <td>0</td>\n",
              "      <td>...</td>\n",
              "      <td>0</td>\n",
              "      <td>0</td>\n",
              "      <td>0</td>\n",
              "      <td>0</td>\n",
              "      <td>0</td>\n",
              "      <td>0</td>\n",
              "      <td>0</td>\n",
              "      <td>0</td>\n",
              "      <td>0</td>\n",
              "      <td>0</td>\n",
              "    </tr>\n",
              "    <tr>\n",
              "      <th>2</th>\n",
              "      <td>6</td>\n",
              "      <td>0</td>\n",
              "      <td>0</td>\n",
              "      <td>0</td>\n",
              "      <td>0</td>\n",
              "      <td>0</td>\n",
              "      <td>0</td>\n",
              "      <td>0</td>\n",
              "      <td>5</td>\n",
              "      <td>0</td>\n",
              "      <td>...</td>\n",
              "      <td>0</td>\n",
              "      <td>0</td>\n",
              "      <td>0</td>\n",
              "      <td>30</td>\n",
              "      <td>43</td>\n",
              "      <td>0</td>\n",
              "      <td>0</td>\n",
              "      <td>0</td>\n",
              "      <td>0</td>\n",
              "      <td>0</td>\n",
              "    </tr>\n",
              "    <tr>\n",
              "      <th>3</th>\n",
              "      <td>0</td>\n",
              "      <td>0</td>\n",
              "      <td>0</td>\n",
              "      <td>0</td>\n",
              "      <td>1</td>\n",
              "      <td>2</td>\n",
              "      <td>0</td>\n",
              "      <td>0</td>\n",
              "      <td>0</td>\n",
              "      <td>0</td>\n",
              "      <td>...</td>\n",
              "      <td>3</td>\n",
              "      <td>0</td>\n",
              "      <td>0</td>\n",
              "      <td>0</td>\n",
              "      <td>0</td>\n",
              "      <td>1</td>\n",
              "      <td>0</td>\n",
              "      <td>0</td>\n",
              "      <td>0</td>\n",
              "      <td>0</td>\n",
              "    </tr>\n",
              "    <tr>\n",
              "      <th>4</th>\n",
              "      <td>3</td>\n",
              "      <td>0</td>\n",
              "      <td>0</td>\n",
              "      <td>0</td>\n",
              "      <td>0</td>\n",
              "      <td>0</td>\n",
              "      <td>0</td>\n",
              "      <td>0</td>\n",
              "      <td>0</td>\n",
              "      <td>0</td>\n",
              "      <td>...</td>\n",
              "      <td>0</td>\n",
              "      <td>0</td>\n",
              "      <td>0</td>\n",
              "      <td>0</td>\n",
              "      <td>0</td>\n",
              "      <td>0</td>\n",
              "      <td>0</td>\n",
              "      <td>0</td>\n",
              "      <td>0</td>\n",
              "      <td>0</td>\n",
              "    </tr>\n",
              "  </tbody>\n",
              "</table>\n",
              "<p>5 rows × 785 columns</p>\n",
              "</div>"
            ],
            "text/plain": [
              "   label  pixel1  pixel2  pixel3  pixel4  pixel5  pixel6  pixel7  pixel8  \\\n",
              "0      2       0       0       0       0       0       0       0       0   \n",
              "1      9       0       0       0       0       0       0       0       0   \n",
              "2      6       0       0       0       0       0       0       0       5   \n",
              "3      0       0       0       0       1       2       0       0       0   \n",
              "4      3       0       0       0       0       0       0       0       0   \n",
              "\n",
              "   pixel9  ...  pixel775  pixel776  pixel777  pixel778  pixel779  pixel780  \\\n",
              "0       0  ...         0         0         0         0         0         0   \n",
              "1       0  ...         0         0         0         0         0         0   \n",
              "2       0  ...         0         0         0        30        43         0   \n",
              "3       0  ...         3         0         0         0         0         1   \n",
              "4       0  ...         0         0         0         0         0         0   \n",
              "\n",
              "   pixel781  pixel782  pixel783  pixel784  \n",
              "0         0         0         0         0  \n",
              "1         0         0         0         0  \n",
              "2         0         0         0         0  \n",
              "3         0         0         0         0  \n",
              "4         0         0         0         0  \n",
              "\n",
              "[5 rows x 785 columns]"
            ]
          },
          "execution_count": 3,
          "metadata": {},
          "output_type": "execute_result"
        }
      ],
      "source": [
        "df.head()"
      ]
    },
    {
      "cell_type": "code",
      "execution_count": null,
      "id": "aec78a8e",
      "metadata": {
        "execution": {
          "iopub.execute_input": "2021-10-15T09:48:51.698546Z",
          "iopub.status.busy": "2021-10-15T09:48:51.697809Z",
          "iopub.status.idle": "2021-10-15T09:48:51.700699Z",
          "shell.execute_reply": "2021-10-15T09:48:51.701314Z",
          "shell.execute_reply.started": "2021-10-15T09:38:58.551992Z"
        },
        "papermill": {
          "duration": 0.023863,
          "end_time": "2021-10-15T09:48:51.701525",
          "exception": false,
          "start_time": "2021-10-15T09:48:51.677662",
          "status": "completed"
        },
        "tags": [],
        "id": "aec78a8e"
      },
      "outputs": [],
      "source": [
        "import matplotlib.pyplot as plt \n",
        "\n"
      ]
    },
    {
      "cell_type": "code",
      "execution_count": null,
      "id": "bfdfb571",
      "metadata": {
        "execution": {
          "iopub.execute_input": "2021-10-15T09:48:51.739410Z",
          "iopub.status.busy": "2021-10-15T09:48:51.738644Z",
          "iopub.status.idle": "2021-10-15T09:48:51.747527Z",
          "shell.execute_reply": "2021-10-15T09:48:51.746679Z",
          "shell.execute_reply.started": "2021-10-15T09:38:58.564206Z"
        },
        "papermill": {
          "duration": 0.0294,
          "end_time": "2021-10-15T09:48:51.747703",
          "exception": false,
          "start_time": "2021-10-15T09:48:51.718303",
          "status": "completed"
        },
        "tags": [],
        "id": "bfdfb571"
      },
      "outputs": [],
      "source": [
        "ytrain=df.label"
      ]
    },
    {
      "cell_type": "code",
      "execution_count": null,
      "id": "b95df912",
      "metadata": {
        "execution": {
          "iopub.execute_input": "2021-10-15T09:48:51.790017Z",
          "iopub.status.busy": "2021-10-15T09:48:51.789101Z",
          "iopub.status.idle": "2021-10-15T09:48:51.792628Z",
          "shell.execute_reply": "2021-10-15T09:48:51.793139Z",
          "shell.execute_reply.started": "2021-10-15T09:38:58.573646Z"
        },
        "papermill": {
          "duration": 0.028401,
          "end_time": "2021-10-15T09:48:51.793357",
          "exception": false,
          "start_time": "2021-10-15T09:48:51.764956",
          "status": "completed"
        },
        "tags": [],
        "id": "b95df912",
        "outputId": "4a4f32a6-22b4-428d-cb50-fe33810e009e"
      },
      "outputs": [
        {
          "data": {
            "text/plain": [
              "0    2\n",
              "1    9\n",
              "2    6\n",
              "3    0\n",
              "4    3\n",
              "Name: label, dtype: int64"
            ]
          },
          "execution_count": 6,
          "metadata": {},
          "output_type": "execute_result"
        }
      ],
      "source": [
        "ytrain.head()"
      ]
    },
    {
      "cell_type": "code",
      "execution_count": null,
      "id": "13c5390f",
      "metadata": {
        "execution": {
          "iopub.execute_input": "2021-10-15T09:48:51.833688Z",
          "iopub.status.busy": "2021-10-15T09:48:51.832906Z",
          "iopub.status.idle": "2021-10-15T09:48:51.837934Z",
          "shell.execute_reply": "2021-10-15T09:48:51.838569Z",
          "shell.execute_reply.started": "2021-10-15T09:38:58.587951Z"
        },
        "papermill": {
          "duration": 0.027147,
          "end_time": "2021-10-15T09:48:51.838773",
          "exception": false,
          "start_time": "2021-10-15T09:48:51.811626",
          "status": "completed"
        },
        "tags": [],
        "id": "13c5390f",
        "outputId": "a4e2f955-c8c0-45d1-b96d-d9bbd2ccf8a1"
      },
      "outputs": [
        {
          "data": {
            "text/plain": [
              "(60000,)"
            ]
          },
          "execution_count": 7,
          "metadata": {},
          "output_type": "execute_result"
        }
      ],
      "source": [
        "ytrain.shape"
      ]
    },
    {
      "cell_type": "code",
      "execution_count": null,
      "id": "a1076f8e",
      "metadata": {
        "execution": {
          "iopub.execute_input": "2021-10-15T09:48:51.878473Z",
          "iopub.status.busy": "2021-10-15T09:48:51.877745Z",
          "iopub.status.idle": "2021-10-15T09:48:52.126624Z",
          "shell.execute_reply": "2021-10-15T09:48:52.125895Z",
          "shell.execute_reply.started": "2021-10-15T09:38:58.602723Z"
        },
        "papermill": {
          "duration": 0.270154,
          "end_time": "2021-10-15T09:48:52.126806",
          "exception": false,
          "start_time": "2021-10-15T09:48:51.856652",
          "status": "completed"
        },
        "tags": [],
        "id": "a1076f8e",
        "outputId": "9cbb477e-57e0-4ccd-9a05-5ce4b2660776"
      },
      "outputs": [
        {
          "data": {
            "text/html": [
              "<div>\n",
              "<style scoped>\n",
              "    .dataframe tbody tr th:only-of-type {\n",
              "        vertical-align: middle;\n",
              "    }\n",
              "\n",
              "    .dataframe tbody tr th {\n",
              "        vertical-align: top;\n",
              "    }\n",
              "\n",
              "    .dataframe thead th {\n",
              "        text-align: right;\n",
              "    }\n",
              "</style>\n",
              "<table border=\"1\" class=\"dataframe\">\n",
              "  <thead>\n",
              "    <tr style=\"text-align: right;\">\n",
              "      <th></th>\n",
              "      <th>pixel1</th>\n",
              "      <th>pixel2</th>\n",
              "      <th>pixel3</th>\n",
              "      <th>pixel4</th>\n",
              "      <th>pixel5</th>\n",
              "      <th>pixel6</th>\n",
              "      <th>pixel7</th>\n",
              "      <th>pixel8</th>\n",
              "      <th>pixel9</th>\n",
              "      <th>pixel10</th>\n",
              "      <th>...</th>\n",
              "      <th>pixel775</th>\n",
              "      <th>pixel776</th>\n",
              "      <th>pixel777</th>\n",
              "      <th>pixel778</th>\n",
              "      <th>pixel779</th>\n",
              "      <th>pixel780</th>\n",
              "      <th>pixel781</th>\n",
              "      <th>pixel782</th>\n",
              "      <th>pixel783</th>\n",
              "      <th>pixel784</th>\n",
              "    </tr>\n",
              "  </thead>\n",
              "  <tbody>\n",
              "    <tr>\n",
              "      <th>0</th>\n",
              "      <td>0</td>\n",
              "      <td>0</td>\n",
              "      <td>0</td>\n",
              "      <td>0</td>\n",
              "      <td>0</td>\n",
              "      <td>0</td>\n",
              "      <td>0</td>\n",
              "      <td>0</td>\n",
              "      <td>0</td>\n",
              "      <td>0</td>\n",
              "      <td>...</td>\n",
              "      <td>0</td>\n",
              "      <td>0</td>\n",
              "      <td>0</td>\n",
              "      <td>0</td>\n",
              "      <td>0</td>\n",
              "      <td>0</td>\n",
              "      <td>0</td>\n",
              "      <td>0</td>\n",
              "      <td>0</td>\n",
              "      <td>0</td>\n",
              "    </tr>\n",
              "    <tr>\n",
              "      <th>1</th>\n",
              "      <td>0</td>\n",
              "      <td>0</td>\n",
              "      <td>0</td>\n",
              "      <td>0</td>\n",
              "      <td>0</td>\n",
              "      <td>0</td>\n",
              "      <td>0</td>\n",
              "      <td>0</td>\n",
              "      <td>0</td>\n",
              "      <td>0</td>\n",
              "      <td>...</td>\n",
              "      <td>0</td>\n",
              "      <td>0</td>\n",
              "      <td>0</td>\n",
              "      <td>0</td>\n",
              "      <td>0</td>\n",
              "      <td>0</td>\n",
              "      <td>0</td>\n",
              "      <td>0</td>\n",
              "      <td>0</td>\n",
              "      <td>0</td>\n",
              "    </tr>\n",
              "    <tr>\n",
              "      <th>2</th>\n",
              "      <td>0</td>\n",
              "      <td>0</td>\n",
              "      <td>0</td>\n",
              "      <td>0</td>\n",
              "      <td>0</td>\n",
              "      <td>0</td>\n",
              "      <td>0</td>\n",
              "      <td>5</td>\n",
              "      <td>0</td>\n",
              "      <td>0</td>\n",
              "      <td>...</td>\n",
              "      <td>0</td>\n",
              "      <td>0</td>\n",
              "      <td>0</td>\n",
              "      <td>30</td>\n",
              "      <td>43</td>\n",
              "      <td>0</td>\n",
              "      <td>0</td>\n",
              "      <td>0</td>\n",
              "      <td>0</td>\n",
              "      <td>0</td>\n",
              "    </tr>\n",
              "    <tr>\n",
              "      <th>3</th>\n",
              "      <td>0</td>\n",
              "      <td>0</td>\n",
              "      <td>0</td>\n",
              "      <td>1</td>\n",
              "      <td>2</td>\n",
              "      <td>0</td>\n",
              "      <td>0</td>\n",
              "      <td>0</td>\n",
              "      <td>0</td>\n",
              "      <td>0</td>\n",
              "      <td>...</td>\n",
              "      <td>3</td>\n",
              "      <td>0</td>\n",
              "      <td>0</td>\n",
              "      <td>0</td>\n",
              "      <td>0</td>\n",
              "      <td>1</td>\n",
              "      <td>0</td>\n",
              "      <td>0</td>\n",
              "      <td>0</td>\n",
              "      <td>0</td>\n",
              "    </tr>\n",
              "    <tr>\n",
              "      <th>4</th>\n",
              "      <td>0</td>\n",
              "      <td>0</td>\n",
              "      <td>0</td>\n",
              "      <td>0</td>\n",
              "      <td>0</td>\n",
              "      <td>0</td>\n",
              "      <td>0</td>\n",
              "      <td>0</td>\n",
              "      <td>0</td>\n",
              "      <td>0</td>\n",
              "      <td>...</td>\n",
              "      <td>0</td>\n",
              "      <td>0</td>\n",
              "      <td>0</td>\n",
              "      <td>0</td>\n",
              "      <td>0</td>\n",
              "      <td>0</td>\n",
              "      <td>0</td>\n",
              "      <td>0</td>\n",
              "      <td>0</td>\n",
              "      <td>0</td>\n",
              "    </tr>\n",
              "  </tbody>\n",
              "</table>\n",
              "<p>5 rows × 784 columns</p>\n",
              "</div>"
            ],
            "text/plain": [
              "   pixel1  pixel2  pixel3  pixel4  pixel5  pixel6  pixel7  pixel8  pixel9  \\\n",
              "0       0       0       0       0       0       0       0       0       0   \n",
              "1       0       0       0       0       0       0       0       0       0   \n",
              "2       0       0       0       0       0       0       0       5       0   \n",
              "3       0       0       0       1       2       0       0       0       0   \n",
              "4       0       0       0       0       0       0       0       0       0   \n",
              "\n",
              "   pixel10  ...  pixel775  pixel776  pixel777  pixel778  pixel779  pixel780  \\\n",
              "0        0  ...         0         0         0         0         0         0   \n",
              "1        0  ...         0         0         0         0         0         0   \n",
              "2        0  ...         0         0         0        30        43         0   \n",
              "3        0  ...         3         0         0         0         0         1   \n",
              "4        0  ...         0         0         0         0         0         0   \n",
              "\n",
              "   pixel781  pixel782  pixel783  pixel784  \n",
              "0         0         0         0         0  \n",
              "1         0         0         0         0  \n",
              "2         0         0         0         0  \n",
              "3         0         0         0         0  \n",
              "4         0         0         0         0  \n",
              "\n",
              "[5 rows x 784 columns]"
            ]
          },
          "execution_count": 8,
          "metadata": {},
          "output_type": "execute_result"
        }
      ],
      "source": [
        "xtrain=df.drop(['label'],axis=1)\n",
        "xtrain.head()"
      ]
    },
    {
      "cell_type": "code",
      "execution_count": null,
      "id": "bb39c61b",
      "metadata": {
        "execution": {
          "iopub.execute_input": "2021-10-15T09:48:52.168495Z",
          "iopub.status.busy": "2021-10-15T09:48:52.167402Z",
          "iopub.status.idle": "2021-10-15T09:48:52.443472Z",
          "shell.execute_reply": "2021-10-15T09:48:52.443972Z",
          "shell.execute_reply.started": "2021-10-15T09:38:58.787867Z"
        },
        "papermill": {
          "duration": 0.299127,
          "end_time": "2021-10-15T09:48:52.444177",
          "exception": false,
          "start_time": "2021-10-15T09:48:52.145050",
          "status": "completed"
        },
        "tags": [],
        "id": "bb39c61b"
      },
      "outputs": [],
      "source": [
        "xtrain=np.array(xtrain)\n",
        "xtrain=xtrain.reshape(len(xtrain),28*28)"
      ]
    },
    {
      "cell_type": "code",
      "execution_count": null,
      "id": "948e3b51",
      "metadata": {
        "execution": {
          "iopub.execute_input": "2021-10-15T09:48:52.484016Z",
          "iopub.status.busy": "2021-10-15T09:48:52.483050Z",
          "iopub.status.idle": "2021-10-15T09:48:52.674552Z",
          "shell.execute_reply": "2021-10-15T09:48:52.673878Z",
          "shell.execute_reply.started": "2021-10-15T09:38:58.938147Z"
        },
        "papermill": {
          "duration": 0.212411,
          "end_time": "2021-10-15T09:48:52.674726",
          "exception": false,
          "start_time": "2021-10-15T09:48:52.462315",
          "status": "completed"
        },
        "tags": [],
        "id": "948e3b51"
      },
      "outputs": [],
      "source": [
        "#normalize \n",
        "xtrain=xtrain/255"
      ]
    },
    {
      "cell_type": "code",
      "execution_count": null,
      "id": "b222ce0b",
      "metadata": {
        "execution": {
          "iopub.execute_input": "2021-10-15T09:48:52.718651Z",
          "iopub.status.busy": "2021-10-15T09:48:52.717859Z",
          "iopub.status.idle": "2021-10-15T09:48:52.721854Z",
          "shell.execute_reply": "2021-10-15T09:48:52.721194Z",
          "shell.execute_reply.started": "2021-10-15T09:38:59.149885Z"
        },
        "papermill": {
          "duration": 0.028787,
          "end_time": "2021-10-15T09:48:52.722012",
          "exception": false,
          "start_time": "2021-10-15T09:48:52.693225",
          "status": "completed"
        },
        "tags": [],
        "id": "b222ce0b",
        "outputId": "cd4a85af-1cd6-4507-a66f-d9172d48813f"
      },
      "outputs": [
        {
          "data": {
            "text/plain": [
              "(60000, 784)"
            ]
          },
          "execution_count": 11,
          "metadata": {},
          "output_type": "execute_result"
        }
      ],
      "source": [
        "xtrain.shape"
      ]
    },
    {
      "cell_type": "code",
      "execution_count": null,
      "id": "21613735",
      "metadata": {
        "execution": {
          "iopub.execute_input": "2021-10-15T09:48:52.765521Z",
          "iopub.status.busy": "2021-10-15T09:48:52.764815Z",
          "iopub.status.idle": "2021-10-15T09:48:58.464069Z",
          "shell.execute_reply": "2021-10-15T09:48:58.463415Z",
          "shell.execute_reply.started": "2021-10-15T09:38:59.168759Z"
        },
        "papermill": {
          "duration": 5.723239,
          "end_time": "2021-10-15T09:48:58.464229",
          "exception": false,
          "start_time": "2021-10-15T09:48:52.740990",
          "status": "completed"
        },
        "tags": [],
        "id": "21613735"
      },
      "outputs": [],
      "source": [
        "import tensorflow as tf\n",
        "from tensorflow import keras\n"
      ]
    },
    {
      "cell_type": "code",
      "execution_count": null,
      "id": "0f3ca726",
      "metadata": {
        "execution": {
          "iopub.execute_input": "2021-10-15T09:48:58.504568Z",
          "iopub.status.busy": "2021-10-15T09:48:58.503892Z",
          "iopub.status.idle": "2021-10-15T09:48:59.868305Z",
          "shell.execute_reply": "2021-10-15T09:48:59.869044Z",
          "shell.execute_reply.started": "2021-10-15T09:38:59.179836Z"
        },
        "papermill": {
          "duration": 1.386748,
          "end_time": "2021-10-15T09:48:59.869312",
          "exception": false,
          "start_time": "2021-10-15T09:48:58.482564",
          "status": "completed"
        },
        "tags": [],
        "id": "0f3ca726",
        "outputId": "0c15aeed-35f9-4bcc-ab9f-6d5a2d5a36ec"
      },
      "outputs": [
        {
          "name": "stderr",
          "output_type": "stream",
          "text": [
            "\n",
            "User settings:\n",
            "\n",
            "   KMP_AFFINITY=granularity=fine,verbose,compact,1,0\n",
            "   KMP_BLOCKTIME=0\n",
            "   KMP_SETTINGS=1\n",
            "   KMP_WARNINGS=0\n",
            "\n",
            "Effective settings:\n",
            "\n",
            "   KMP_ABORT_DELAY=0\n",
            "   KMP_ADAPTIVE_LOCK_PROPS='1,1024'\n",
            "   KMP_ALIGN_ALLOC=64\n",
            "   KMP_ALL_THREADPRIVATE=128\n",
            "   KMP_ATOMIC_MODE=2\n",
            "   KMP_BLOCKTIME=0\n",
            "   KMP_CPUINFO_FILE: value is not defined\n",
            "   KMP_DETERMINISTIC_REDUCTION=false\n",
            "   KMP_DEVICE_THREAD_LIMIT=2147483647\n",
            "   KMP_DISP_NUM_BUFFERS=7\n",
            "   KMP_DUPLICATE_LIB_OK=false\n",
            "   KMP_ENABLE_TASK_THROTTLING=true\n",
            "   KMP_FORCE_REDUCTION: value is not defined\n",
            "   KMP_FOREIGN_THREADS_THREADPRIVATE=true\n",
            "   KMP_FORKJOIN_BARRIER='2,2'\n",
            "   KMP_FORKJOIN_BARRIER_PATTERN='hyper,hyper'\n",
            "   KMP_GTID_MODE=3\n",
            "   KMP_HANDLE_SIGNALS=false\n",
            "   KMP_HOT_TEAMS_MAX_LEVEL=1\n",
            "   KMP_HOT_TEAMS_MODE=0\n",
            "   KMP_INIT_AT_FORK=true\n",
            "   KMP_LIBRARY=throughput\n",
            "   KMP_LOCK_KIND=queuing\n",
            "   KMP_MALLOC_POOL_INCR=1M\n",
            "   KMP_NUM_LOCKS_IN_BLOCK=1\n",
            "   KMP_PLAIN_BARRIER='2,2'\n",
            "   KMP_PLAIN_BARRIER_PATTERN='hyper,hyper'\n",
            "   KMP_REDUCTION_BARRIER='1,1'\n",
            "   KMP_REDUCTION_BARRIER_PATTERN='hyper,hyper'\n",
            "   KMP_SCHEDULE='static,balanced;guided,iterative'\n",
            "   KMP_SETTINGS=true\n",
            "   KMP_SPIN_BACKOFF_PARAMS='4096,100'\n",
            "   KMP_STACKOFFSET=64\n",
            "   KMP_STACKPAD=0\n",
            "   KMP_STACKSIZE=8M\n",
            "   KMP_STORAGE_MAP=false\n",
            "   KMP_TASKING=2\n",
            "   KMP_TASKLOOP_MIN_TASKS=0\n",
            "   KMP_TASK_STEALING_CONSTRAINT=1\n",
            "   KMP_TEAMS_THREAD_LIMIT=4\n",
            "   KMP_TOPOLOGY_METHOD=all\n",
            "   KMP_USE_YIELD=1\n",
            "   KMP_VERSION=false\n",
            "   KMP_WARNINGS=false\n",
            "   OMP_AFFINITY_FORMAT='OMP: pid %P tid %i thread %n bound to OS proc set {%A}'\n",
            "   OMP_ALLOCATOR=omp_default_mem_alloc\n",
            "   OMP_CANCELLATION=false\n",
            "   OMP_DEFAULT_DEVICE=0\n",
            "   OMP_DISPLAY_AFFINITY=false\n",
            "   OMP_DISPLAY_ENV=false\n",
            "   OMP_DYNAMIC=false\n",
            "   OMP_MAX_ACTIVE_LEVELS=1\n",
            "   OMP_MAX_TASK_PRIORITY=0\n",
            "   OMP_NESTED: deprecated; max-active-levels-var=1\n",
            "   OMP_NUM_THREADS: value is not defined\n",
            "   OMP_PLACES: value is not defined\n",
            "   OMP_PROC_BIND='intel'\n",
            "   OMP_SCHEDULE='static'\n",
            "   OMP_STACKSIZE=8M\n",
            "   OMP_TARGET_OFFLOAD=DEFAULT\n",
            "   OMP_THREAD_LIMIT=2147483647\n",
            "   OMP_WAIT_POLICY=PASSIVE\n",
            "   KMP_AFFINITY='verbose,warnings,respect,granularity=fine,compact,1,0'\n",
            "\n",
            "2021-10-15 09:48:59.781595: I tensorflow/core/common_runtime/process_util.cc:146] Creating new thread pool with default inter op setting: 2. Tune using inter_op_parallelism_threads for best performance.\n"
          ]
        }
      ],
      "source": [
        "#ANN \n",
        "model=keras.Sequential()\n",
        "model.add(keras.layers.Dense(10,input_shape=(784,),activation ='sigmoid'))\n"
      ]
    },
    {
      "cell_type": "code",
      "execution_count": null,
      "id": "37d42127",
      "metadata": {
        "execution": {
          "iopub.execute_input": "2021-10-15T09:48:59.930637Z",
          "iopub.status.busy": "2021-10-15T09:48:59.924275Z",
          "iopub.status.idle": "2021-10-15T09:48:59.943319Z",
          "shell.execute_reply": "2021-10-15T09:48:59.942569Z",
          "shell.execute_reply.started": "2021-10-15T09:39:22.936033Z"
        },
        "papermill": {
          "duration": 0.045324,
          "end_time": "2021-10-15T09:48:59.943537",
          "exception": false,
          "start_time": "2021-10-15T09:48:59.898213",
          "status": "completed"
        },
        "tags": [],
        "id": "37d42127"
      },
      "outputs": [],
      "source": [
        "model.compile(optimizer='adam',loss='sparse_categorical_crossentropy',metrics=['accuracy'])"
      ]
    },
    {
      "cell_type": "code",
      "execution_count": null,
      "id": "f6bed466",
      "metadata": {
        "execution": {
          "iopub.execute_input": "2021-10-15T09:48:59.993413Z",
          "iopub.status.busy": "2021-10-15T09:48:59.991741Z",
          "iopub.status.idle": "2021-10-15T09:49:36.243178Z",
          "shell.execute_reply": "2021-10-15T09:49:36.242600Z",
          "shell.execute_reply.started": "2021-10-15T09:39:43.656021Z"
        },
        "papermill": {
          "duration": 36.278679,
          "end_time": "2021-10-15T09:49:36.243332",
          "exception": false,
          "start_time": "2021-10-15T09:48:59.964653",
          "status": "completed"
        },
        "tags": [],
        "id": "f6bed466",
        "outputId": "5d1f1df9-3f23-497f-cf43-e790137cb040"
      },
      "outputs": [
        {
          "name": "stderr",
          "output_type": "stream",
          "text": [
            "2021-10-15 09:49:00.573021: I tensorflow/compiler/mlir/mlir_graph_optimization_pass.cc:185] None of the MLIR Optimization Passes are enabled (registered 2)\n"
          ]
        },
        {
          "name": "stdout",
          "output_type": "stream",
          "text": [
            "Epoch 1/10\n",
            "1875/1875 [==============================] - 4s 2ms/step - loss: 0.6051 - accuracy: 0.7951\n",
            "Epoch 2/10\n",
            "1875/1875 [==============================] - 4s 2ms/step - loss: 0.4663 - accuracy: 0.8410\n",
            "Epoch 3/10\n",
            "1875/1875 [==============================] - 3s 2ms/step - loss: 0.4387 - accuracy: 0.8477\n",
            "Epoch 4/10\n",
            "1875/1875 [==============================] - 3s 2ms/step - loss: 0.4258 - accuracy: 0.8537\n",
            "Epoch 5/10\n",
            "1875/1875 [==============================] - 3s 2ms/step - loss: 0.4167 - accuracy: 0.8546\n",
            "Epoch 6/10\n",
            "1875/1875 [==============================] - 3s 2ms/step - loss: 0.4096 - accuracy: 0.8580\n",
            "Epoch 7/10\n",
            "1875/1875 [==============================] - 3s 2ms/step - loss: 0.4049 - accuracy: 0.8596\n",
            "Epoch 8/10\n",
            "1875/1875 [==============================] - 3s 2ms/step - loss: 0.4022 - accuracy: 0.8600\n",
            "Epoch 9/10\n",
            "1875/1875 [==============================] - 4s 2ms/step - loss: 0.3981 - accuracy: 0.8611\n",
            "Epoch 10/10\n",
            "1875/1875 [==============================] - 4s 2ms/step - loss: 0.3958 - accuracy: 0.8622\n"
          ]
        },
        {
          "data": {
            "text/plain": [
              "<keras.callbacks.History at 0x7ff91a670f90>"
            ]
          },
          "execution_count": 15,
          "metadata": {},
          "output_type": "execute_result"
        }
      ],
      "source": [
        "model.fit(xtrain,ytrain,epochs=10)"
      ]
    },
    {
      "cell_type": "code",
      "execution_count": null,
      "id": "63d40789",
      "metadata": {
        "execution": {
          "iopub.execute_input": "2021-10-15T09:49:37.318928Z",
          "iopub.status.busy": "2021-10-15T09:49:37.309431Z",
          "iopub.status.idle": "2021-10-15T09:49:37.795053Z",
          "shell.execute_reply": "2021-10-15T09:49:37.794440Z",
          "shell.execute_reply.started": "2021-10-15T09:46:07.655018Z"
        },
        "papermill": {
          "duration": 0.737204,
          "end_time": "2021-10-15T09:49:37.795216",
          "exception": false,
          "start_time": "2021-10-15T09:49:37.058012",
          "status": "completed"
        },
        "tags": [],
        "id": "63d40789",
        "outputId": "0dbb76af-09b5-4938-96c8-cc205090471f"
      },
      "outputs": [
        {
          "data": {
            "image/png": "[encoded data removed]",
            "text/plain": [
              "<Figure size 432x288 with 1 Axes>"
            ]
          },
          "metadata": {
            "needs_background": "light"
          },
          "output_type": "display_data"
        }
      ],
      "source": [
        "plt.imshow(xtrain[0].reshape((28,28)))\n",
        "plt.show()"
      ]
    },
    {
      "cell_type": "code",
      "execution_count": null,
      "id": "7da209bc",
      "metadata": {
        "execution": {
          "iopub.execute_input": "2021-10-15T09:49:38.317297Z",
          "iopub.status.busy": "2021-10-15T09:49:38.298609Z",
          "iopub.status.idle": "2021-10-15T09:49:39.360916Z",
          "shell.execute_reply": "2021-10-15T09:49:39.360124Z",
          "shell.execute_reply.started": "2021-10-15T09:43:56.044809Z"
        },
        "papermill": {
          "duration": 1.328775,
          "end_time": "2021-10-15T09:49:39.361089",
          "exception": false,
          "start_time": "2021-10-15T09:49:38.032314",
          "status": "completed"
        },
        "tags": [],
        "id": "7da209bc",
        "outputId": "5dfd878f-6b73-45a5-b592-6b62660e5b73"
      },
      "outputs": [
        {
          "data": {
            "image/png": "[encoded data removed]",
            "text/plain": [
              "<Figure size 720x720 with 25 Axes>"
            ]
          },
          "metadata": {},
          "output_type": "display_data"
        }
      ],
      "source": [
        "#Clkd\n",
        "plt.figure(figsize=(10, 10))\n",
        "for i in range(25):\n",
        "    plt.subplot(5, 5, i + 1)\n",
        "    plt.xticks([])\n",
        "    plt.yticks([])\n",
        "    plt.grid(False)\n",
        "    plt.imshow(xtrain[i].reshape((28,28)), cmap=plt.cm.binary)\n",
        "    #label_index = int(y_train[i])\n",
        "    #plt.title(class_names[label_index])\n",
        "plt.show()"
      ]
    }
  ],
  "metadata": {
    "kernelspec": {
      "display_name": "Python 3",
      "language": "python",
      "name": "python3"
    },
    "language_info": {
      "codemirror_mode": {
        "name": "ipython",
        "version": 3
      },
      "file_extension": ".py",
      "mimetype": "text/x-python",
      "name": "python",
      "nbconvert_exporter": "python",
      "pygments_lexer": "ipython3",
      "version": "3.7.10"
    },
    "papermill": {
      "default_parameters": {},
      "duration": 68.912882,
      "end_time": "2021-10-15T09:49:43.035270",
      "environment_variables": {},
      "exception": null,
      "input_path": "__notebook__.ipynb",
      "output_path": "__notebook__.ipynb",
      "parameters": {},
      "start_time": "2021-10-15T09:48:34.122388",
      "version": "2.3.3"
    },
    "colab": {
      "name": "ecommerce-products-image-classification-rokon.ipynb",
      "provenance": [],
      "include_colab_link": true
    }
  },
  "nbformat": 4,
  "nbformat_minor": 5
}